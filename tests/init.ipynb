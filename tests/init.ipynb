{
 "cells": [
  {
   "source": [
    "!pip install -e ./../\n",
    "import jupnode"
   ],
   "cell_type": "code",
   "metadata": {},
   "execution_count": 1,
   "outputs": [
    {
     "output_type": "stream",
     "name": "stdout",
     "text": [
      "Obtaining file:///home/eva/projects/jupnode\n",
      "Installing collected packages: jupnode\n",
      "  Attempting uninstall: jupnode\n",
      "    Found existing installation: jupnode 0.0.0\n",
      "    Uninstalling jupnode-0.0.0:\n",
      "      Successfully uninstalled jupnode-0.0.0\n",
      "  Running setup.py develop for jupnode\n",
      "Successfully installed jupnode\n"
     ]
    }
   ]
  },
  {
   "cell_type": "code",
   "execution_count": 2,
   "id": "e6aa6d96",
   "metadata": {
    "scrolled": false
   },
   "outputs": [
    {
     "output_type": "stream",
     "name": "stdout",
     "text": [
      "Jupnode started. Cells will run on node.js. Use %%py for use python in cell.\n234\n\n"
     ]
    }
   ],
   "source": [
    "let t = 234;\n",
    "let y = 56\n",
    "t"
   ]
  },
  {
   "cell_type": "code",
   "execution_count": 3,
   "id": "ee3534af",
   "metadata": {},
   "outputs": [
    {
     "output_type": "stream",
     "name": "stdout",
     "text": [
      "ReferenceError: y is not defined\nat throw new Error('asd'):13\nat :3\nat Script.runInContext (node:vm:141:12)\nat Object.runInContext (node:vm:292:6)\nat REPLServer.replEval (/home/eva/projects/jupnode/jupnode/index.js:42:31)\nat bound (node:domain:416:15)\nat REPLServer.runBound [as eval] (node:domain:427:12)\nat REPLServer.onLine (node:repl:836:10)\nat REPLServer.emit (node:events:378:20)\nat REPLServer.EventEmitter.emit (node:domain:470:12)\n"
     ]
    }
   ],
   "source": [
    "console.log(y)\n",
    "throw new Error('asd')"
   ]
  },
  {
   "cell_type": "code",
   "execution_count": 4,
   "metadata": {},
   "outputs": [
    {
     "output_type": "stream",
     "name": "stdout",
     "text": [
      "undefined\n"
     ]
    }
   ],
   "source": [
    "let tt2 = undefined;\n",
    "console.log(tt2)"
   ]
  },
  {
   "cell_type": "code",
   "execution_count": null,
   "metadata": {},
   "outputs": [],
   "source": []
  }
 ],
 "metadata": {
  "kernelspec": {
   "display_name": "Python 3",
   "language": "python",
   "name": "python3"
  }
 },
 "nbformat": 4,
 "nbformat_minor": 5
}