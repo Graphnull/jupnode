{
 "cells": [
  {
   "cell_type": "code",
   "execution_count": null,
   "id": "b942b371",
   "metadata": {
    "scrolled": true
   },
   "outputs": [],
   "source": [
    "!cd ./../ && npm run prepare_py_lib\n",
    "!pip install install ./../jupnode-0.0.0.tar.gz"
   ]
  },
  {
   "cell_type": "code",
   "execution_count": null,
   "id": "70c7b3c8",
   "metadata": {},
   "outputs": [],
   "source": [
    "import jupnode"
   ]
  },
  {
   "cell_type": "code",
   "execution_count": null,
   "id": "e6aa6d96",
   "metadata": {
    "scrolled": false
   },
   "outputs": [],
   "source": [
    "let t = 234;\n",
    "let y = 56\n",
    "t"
   ]
  },
  {
   "cell_type": "code",
   "execution_count": null,
   "id": "ee3534af",
   "metadata": {},
   "outputs": [],
   "source": [
    "console.log(y)\n",
    "\n",
    "await new Promise((res)=>setTimeout(()=>{res()},60000))\n",
    "throw new Error('asd')"
   ]
  },
  {
   "cell_type": "code",
   "execution_count": null,
   "id": "ff724090",
   "metadata": {},
   "outputs": [],
   "source": [
    "let tt2 = undefined;\n",
    "console.log(tt2)"
   ]
  }
 ],
 "metadata": {
  "kernelspec": {
   "display_name": "Python 3",
   "language": "python",
   "name": "python3"
  },
  "language_info": {
   "codemirror_mode": {
    "name": "ipython",
    "version": 3
   },
   "file_extension": ".py",
   "mimetype": "text/x-python",
   "name": "python",
   "nbconvert_exporter": "python",
   "pygments_lexer": "ipython3",
   "version": "3.9.7"
  }
 },
 "nbformat": 4,
 "nbformat_minor": 5
}
