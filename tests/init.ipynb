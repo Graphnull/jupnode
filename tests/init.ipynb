{
 "cells": [
  {
   "cell_type": "code",
   "execution_count": 1,
   "id": "4cd2e81d",
   "metadata": {},
   "outputs": [
    {
     "name": "stdout",
     "output_type": "stream",
     "text": [
      "jupnode 0.5.7 started. Cells will run on node.js.\n"
     ]
    }
   ],
   "source": [
    "# !pip install -e ./../\n",
    "import sys\n",
    "sys.path.insert(1, './../')\n",
    "import jupnode"
   ]
  },
  {
   "cell_type": "code",
   "execution_count": 2,
   "id": "e6aa6d96",
   "metadata": {
    "scrolled": false
   },
   "outputs": [
    {
     "name": "stdout",
     "output_type": "stream",
     "text": [
      "Error: ttt\n",
      "at throw new Error('ttt'):7\n",
      "at Script.runInContext (vm.js:142:18)\n",
      "at Object.runInContext (vm.js:293:6)\n",
      "at resultFunc (/home/eva/jupnode/jupnode/index.js:136:28)\n",
      "at REPLServer.replEval (/home/eva/jupnode/jupnode/index.js:143:7)\n",
      "at bound (domain.js:430:14)\n",
      "at REPLServer.runBound [as eval] (domain.js:443:12)\n",
      "at REPLServer.onLine (repl.js:817:10)\n",
      "at REPLServer.emit (events.js:315:20)\n"
     ]
    }
   ],
   "source": [
    "\n",
    "throw new Error('ttt')\n",
    "\n",
    "await console.log('sdf')"
   ]
  },
  {
   "cell_type": "code",
   "execution_count": 7,
   "id": "a8113cf6",
   "metadata": {},
   "outputs": [
    {
     "name": "stdout",
     "output_type": "stream",
     "text": [
      "> sharp@0.28.3 install /home/eva/jupnode/tests/node/node_modules/sharp\n",
      "> (node install/libvips && node install/dll-copy && prebuild-install) || (node install/can-compile && node-gyp rebuild && node install/dll-copy)\n",
      "sharp: Using cached /home/eva/.npm/_libvips/libvips-8.10.6-linux-x64.tar.br\n",
      "npm WARN saveError ENOENT: no such file or directory, open '/home/eva/jupnode/tests/node/package.json'\n",
      "npm WARN enoent ENOENT: no such file or directory, open '/home/eva/jupnode/tests/node/package.json'\n",
      "npm WARN node No description\n",
      "npm WARN node No repository field.\n",
      "npm WARN node No README data\n",
      "npm WARN node No license field.\n",
      "+ sharp@0.28.3\n",
      "updated 1 package in 14.989s\n",
      "6 packages are looking for funding\n",
      "run `npm fund` for details\n"
     ]
    }
   ],
   "source": [
    "sh`npm install sharp`"
   ]
  },
  {
   "cell_type": "code",
   "execution_count": 4,
   "id": "bb958cd5",
   "metadata": {
    "scrolled": true
   },
   "outputs": [
    {
     "name": "stdout",
     "output_type": "stream",
     "text": [
      "^C[7m \u001b[27m\u001b[90m.................\u001b[0m] - fetchMetadata: \u001b[7msill\u001b[0m \u001b[35mresolveWithNewModule\u001b[0m util-deprecate@\u001b[0m\u001b[KK\n",
      "\u001b[K\u001b[?25h"
     ]
    }
   ],
   "source": [
    "%%py\n",
    "!npm install sharp"
   ]
  },
  {
   "cell_type": "code",
   "execution_count": 5,
   "id": "2268cb01",
   "metadata": {},
   "outputs": [
    {
     "name": "stdout",
     "output_type": "stream",
     "text": [
      "jupnode 0.5.7 started. Cells will run on node.js.\n",
      "Error: Cannot find module 'npy-js'\n",
      "Require stack:\n",
      "- <repl>\n",
      "at Function.Module._resolveFilename (internal/modules/cjs/loader.js:880:15)\n",
      "at Function.Module._load (internal/modules/cjs/loader.js:725:27)\n",
      "at Module.require (internal/modules/cjs/loader.js:952:19)\n",
      "at require (internal/modules/cjs/helpers.js:88:18)\n",
      "at let { parseNumpyFile, unparseNumpyFile, readNumpyFile, writeNumpyFile, buildDataArray } = require('npy-js');:91\n",
      "at Script.runInContext (vm.js:142:18)\n",
      "at Object.runInContext (vm.js:293:6)\n",
      "at resultFunc (/home/eva/jupnode/jupnode/index.js:136:28)\n",
      "at REPLServer.replEval (/home/eva/jupnode/jupnode/index.js:143:7)\n",
      "at bound (domain.js:430:14)\n"
     ]
    }
   ],
   "source": [
    "let sharp = require('sharp1')\n",
    "await sharp('img.png').raw().toBuffer()"
   ]
  },
  {
   "cell_type": "code",
   "execution_count": 8,
   "id": "f3483d1d",
   "metadata": {},
   "outputs": [
    {
     "ename": "NameError",
     "evalue": "name 'npm' is not defined",
     "output_type": "error",
     "traceback": [
      "\u001b[0;31m---------------------------------------------------------------------------\u001b[0m",
      "\u001b[0;31mNameError\u001b[0m                                 Traceback (most recent call last)",
      "\u001b[0;32m<ipython-input-8-62843cec72bb>\u001b[0m in \u001b[0;36m<module>\u001b[0;34m\u001b[0m\n\u001b[0;32m----> 1\u001b[0;31m \u001b[0mnpm\u001b[0m\u001b[0;34m\u001b[0m\u001b[0;34m\u001b[0m\u001b[0m\n\u001b[0m",
      "\u001b[0;31mNameError\u001b[0m: name 'npm' is not defined"
     ]
    }
   ],
   "source": [
    "%%py\n",
    "npm"
   ]
  },
  {
   "cell_type": "code",
   "execution_count": null,
   "id": "c6298ff5",
   "metadata": {},
   "outputs": [],
   "source": []
  },
  {
   "cell_type": "code",
   "execution_count": null,
   "id": "ee3534af",
   "metadata": {},
   "outputs": [],
   "source": []
  }
 ],
 "metadata": {
  "kernelspec": {
   "display_name": "Python 3",
   "language": "python",
   "name": "python3"
  },
  "language_info": {
   "codemirror_mode": {
    "name": "ipython",
    "version": 3
   },
   "file_extension": ".py",
   "mimetype": "text/x-python",
   "name": "python",
   "nbconvert_exporter": "python",
   "pygments_lexer": "ipython3",
   "version": "3.6.9"
  }
 },
 "nbformat": 4,
 "nbformat_minor": 5
}
